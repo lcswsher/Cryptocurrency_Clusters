{
 "cells": [
  {
   "cell_type": "code",
   "execution_count": 1,
   "id": "509f9c4f-09f6-4f40-8939-18f0ac922ce0",
   "metadata": {},
   "outputs": [],
   "source": [
    "from pathlib import Path\n",
    "import pandas as pd\n",
    "from sklearn.manifold import TSNE\n",
    "from sklearn.decomposition import PCA\n",
    "from sklearn.preprocessing import StandardScaler, MinMaxScaler\n",
    "import matplotlib.pyplot as plt\n",
    "%matplotlib inline\n",
    "from sklearn.cluster import KMeans"
   ]
  },
  {
   "cell_type": "code",
   "execution_count": 2,
   "id": "cd7a795f-3945-465c-9d47-042c5605ce7f",
   "metadata": {},
   "outputs": [],
   "source": [
    "file_path = \"crypto_data.csv\""
   ]
  },
  {
   "cell_type": "code",
   "execution_count": 3,
   "id": "4373397b-2b9a-4b8b-8679-dea340d5bac1",
   "metadata": {},
   "outputs": [
    {
     "data": {
      "text/html": [
       "<div>\n",
       "<style scoped>\n",
       "    .dataframe tbody tr th:only-of-type {\n",
       "        vertical-align: middle;\n",
       "    }\n",
       "\n",
       "    .dataframe tbody tr th {\n",
       "        vertical-align: top;\n",
       "    }\n",
       "\n",
       "    .dataframe thead th {\n",
       "        text-align: right;\n",
       "    }\n",
       "</style>\n",
       "<table border=\"1\" class=\"dataframe\">\n",
       "  <thead>\n",
       "    <tr style=\"text-align: right;\">\n",
       "      <th></th>\n",
       "      <th>Unnamed: 0</th>\n",
       "      <th>CoinName</th>\n",
       "      <th>Algorithm</th>\n",
       "      <th>IsTrading</th>\n",
       "      <th>ProofType</th>\n",
       "      <th>TotalCoinsMined</th>\n",
       "      <th>TotalCoinSupply</th>\n",
       "    </tr>\n",
       "  </thead>\n",
       "  <tbody>\n",
       "    <tr>\n",
       "      <th>0</th>\n",
       "      <td>42</td>\n",
       "      <td>42 Coin</td>\n",
       "      <td>Scrypt</td>\n",
       "      <td>True</td>\n",
       "      <td>PoW/PoS</td>\n",
       "      <td>4.199995e+01</td>\n",
       "      <td>42</td>\n",
       "    </tr>\n",
       "    <tr>\n",
       "      <th>1</th>\n",
       "      <td>365</td>\n",
       "      <td>365Coin</td>\n",
       "      <td>X11</td>\n",
       "      <td>True</td>\n",
       "      <td>PoW/PoS</td>\n",
       "      <td>NaN</td>\n",
       "      <td>2300000000</td>\n",
       "    </tr>\n",
       "    <tr>\n",
       "      <th>2</th>\n",
       "      <td>404</td>\n",
       "      <td>404Coin</td>\n",
       "      <td>Scrypt</td>\n",
       "      <td>True</td>\n",
       "      <td>PoW/PoS</td>\n",
       "      <td>1.055185e+09</td>\n",
       "      <td>532000000</td>\n",
       "    </tr>\n",
       "    <tr>\n",
       "      <th>3</th>\n",
       "      <td>611</td>\n",
       "      <td>SixEleven</td>\n",
       "      <td>SHA-256</td>\n",
       "      <td>True</td>\n",
       "      <td>PoW</td>\n",
       "      <td>NaN</td>\n",
       "      <td>611000</td>\n",
       "    </tr>\n",
       "    <tr>\n",
       "      <th>4</th>\n",
       "      <td>808</td>\n",
       "      <td>808</td>\n",
       "      <td>SHA-256</td>\n",
       "      <td>True</td>\n",
       "      <td>PoW/PoS</td>\n",
       "      <td>0.000000e+00</td>\n",
       "      <td>0</td>\n",
       "    </tr>\n",
       "  </tbody>\n",
       "</table>\n",
       "</div>"
      ],
      "text/plain": [
       "  Unnamed: 0   CoinName Algorithm  IsTrading ProofType  TotalCoinsMined  \\\n",
       "0         42    42 Coin    Scrypt       True   PoW/PoS     4.199995e+01   \n",
       "1        365    365Coin       X11       True   PoW/PoS              NaN   \n",
       "2        404    404Coin    Scrypt       True   PoW/PoS     1.055185e+09   \n",
       "3        611  SixEleven   SHA-256       True       PoW              NaN   \n",
       "4        808        808   SHA-256       True   PoW/PoS     0.000000e+00   \n",
       "\n",
       "  TotalCoinSupply  \n",
       "0              42  \n",
       "1      2300000000  \n",
       "2       532000000  \n",
       "3          611000  \n",
       "4               0  "
      ]
     },
     "execution_count": 3,
     "metadata": {},
     "output_type": "execute_result"
    }
   ],
   "source": [
    "df = pd.read_csv(file_path,index_col=False)\n",
    "df.head()"
   ]
  },
  {
   "cell_type": "code",
   "execution_count": 4,
   "id": "bdb9c78e-7e1f-4f69-90eb-426e0b2b252b",
   "metadata": {},
   "outputs": [
    {
     "data": {
      "text/plain": [
       "(1252, 7)"
      ]
     },
     "execution_count": 4,
     "metadata": {},
     "output_type": "execute_result"
    }
   ],
   "source": [
    "df.shape"
   ]
  },
  {
   "cell_type": "markdown",
   "id": "0d8d3e86-15b4-4d2e-bb17-92ee276ba71e",
   "metadata": {},
   "source": [
    "# Data Preparation"
   ]
  },
  {
   "cell_type": "code",
   "execution_count": 5,
   "id": "4067dae6-03cb-4f93-b717-85185a3d69d1",
   "metadata": {},
   "outputs": [],
   "source": [
    "# Filter by all the \"True\" values in the IsTrading column. \n",
    "df_filter = df[(df['IsTrading']==True)]"
   ]
  },
  {
   "cell_type": "code",
   "execution_count": 6,
   "id": "72a1cdd2-b8d1-4373-b50d-99a7585fc56f",
   "metadata": {},
   "outputs": [
    {
     "data": {
      "text/plain": [
       "(1144, 7)"
      ]
     },
     "execution_count": 6,
     "metadata": {},
     "output_type": "execute_result"
    }
   ],
   "source": [
    "df_filter.shape"
   ]
  },
  {
   "cell_type": "code",
   "execution_count": 7,
   "id": "ab7d7681-8a4e-4980-a279-e5c1977987bb",
   "metadata": {},
   "outputs": [],
   "source": [
    "# drop the column titled IsTrading\n",
    "df_filter = df_filter.drop(['IsTrading', 'CoinName'], axis = 1)"
   ]
  },
  {
   "cell_type": "code",
   "execution_count": 8,
   "id": "10220076-729d-49c8-81a1-b0a4ee9f4394",
   "metadata": {},
   "outputs": [
    {
     "data": {
      "text/plain": [
       "(1144, 5)"
      ]
     },
     "execution_count": 8,
     "metadata": {},
     "output_type": "execute_result"
    }
   ],
   "source": [
    "df_filter.shape"
   ]
  },
  {
   "cell_type": "code",
   "execution_count": 9,
   "id": "02018ccd-4566-4203-8727-c48919024199",
   "metadata": {},
   "outputs": [
    {
     "data": {
      "text/plain": [
       "Unnamed: 0           0\n",
       "Algorithm            0\n",
       "ProofType            0\n",
       "TotalCoinsMined    459\n",
       "TotalCoinSupply      0\n",
       "dtype: int64"
      ]
     },
     "execution_count": 9,
     "metadata": {},
     "output_type": "execute_result"
    }
   ],
   "source": [
    "# Searching for Null values by column\n",
    "df_filter.isnull().sum()"
   ]
  },
  {
   "cell_type": "code",
   "execution_count": 10,
   "id": "3a987cbf-5cd8-4ce1-a0a0-75f9f566d411",
   "metadata": {},
   "outputs": [
    {
     "data": {
      "text/plain": [
       "0"
      ]
     },
     "execution_count": 10,
     "metadata": {},
     "output_type": "execute_result"
    }
   ],
   "source": [
    "# Searching for duplicates\n",
    "df_filter.duplicated().sum()"
   ]
  },
  {
   "cell_type": "code",
   "execution_count": 11,
   "id": "959aaf83-e1d1-479e-b8bf-59bb5adcf240",
   "metadata": {},
   "outputs": [],
   "source": [
    "# removing all rows with at least one null value\n",
    "df_filter = df_filter.dropna(axis=0, how='any')"
   ]
  },
  {
   "cell_type": "code",
   "execution_count": 12,
   "id": "479e8426-28bd-4b47-a5c2-7cc0e5727caa",
   "metadata": {},
   "outputs": [
    {
     "data": {
      "text/plain": [
       "(685, 5)"
      ]
     },
     "execution_count": 12,
     "metadata": {},
     "output_type": "execute_result"
    }
   ],
   "source": [
    "df_filter.shape"
   ]
  },
  {
   "cell_type": "code",
   "execution_count": 13,
   "id": "5f8b5427-6f71-4a3e-844b-302bbc533129",
   "metadata": {},
   "outputs": [],
   "source": [
    "# filtering for al rows with totalCoinsMined greater than zero\n",
    "df_filter = df_filter[df_filter['TotalCoinsMined'] > 0]"
   ]
  },
  {
   "cell_type": "code",
   "execution_count": 14,
   "id": "a417a01d-baba-4994-b01a-29942f903829",
   "metadata": {},
   "outputs": [
    {
     "data": {
      "text/plain": [
       "(532, 5)"
      ]
     },
     "execution_count": 14,
     "metadata": {},
     "output_type": "execute_result"
    }
   ],
   "source": [
    "df_filter.shape"
   ]
  },
  {
   "cell_type": "code",
   "execution_count": 15,
   "id": "5b9cbd8d-70bc-4893-91f6-17e95c2bfa4a",
   "metadata": {},
   "outputs": [
    {
     "data": {
      "text/html": [
       "<div>\n",
       "<style scoped>\n",
       "    .dataframe tbody tr th:only-of-type {\n",
       "        vertical-align: middle;\n",
       "    }\n",
       "\n",
       "    .dataframe tbody tr th {\n",
       "        vertical-align: top;\n",
       "    }\n",
       "\n",
       "    .dataframe thead th {\n",
       "        text-align: right;\n",
       "    }\n",
       "</style>\n",
       "<table border=\"1\" class=\"dataframe\">\n",
       "  <thead>\n",
       "    <tr style=\"text-align: right;\">\n",
       "      <th></th>\n",
       "      <th>TotalCoinsMined</th>\n",
       "    </tr>\n",
       "  </thead>\n",
       "  <tbody>\n",
       "    <tr>\n",
       "      <th>count</th>\n",
       "      <td>5.320000e+02</td>\n",
       "    </tr>\n",
       "    <tr>\n",
       "      <th>mean</th>\n",
       "      <td>5.340456e+09</td>\n",
       "    </tr>\n",
       "    <tr>\n",
       "      <th>std</th>\n",
       "      <td>4.564568e+10</td>\n",
       "    </tr>\n",
       "    <tr>\n",
       "      <th>min</th>\n",
       "      <td>4.199995e+01</td>\n",
       "    </tr>\n",
       "    <tr>\n",
       "      <th>25%</th>\n",
       "      <td>8.359849e+06</td>\n",
       "    </tr>\n",
       "    <tr>\n",
       "      <th>50%</th>\n",
       "      <td>2.474397e+07</td>\n",
       "    </tr>\n",
       "    <tr>\n",
       "      <th>75%</th>\n",
       "      <td>1.867250e+08</td>\n",
       "    </tr>\n",
       "    <tr>\n",
       "      <th>max</th>\n",
       "      <td>9.899887e+11</td>\n",
       "    </tr>\n",
       "  </tbody>\n",
       "</table>\n",
       "</div>"
      ],
      "text/plain": [
       "       TotalCoinsMined\n",
       "count     5.320000e+02\n",
       "mean      5.340456e+09\n",
       "std       4.564568e+10\n",
       "min       4.199995e+01\n",
       "25%       8.359849e+06\n",
       "50%       2.474397e+07\n",
       "75%       1.867250e+08\n",
       "max       9.899887e+11"
      ]
     },
     "execution_count": 15,
     "metadata": {},
     "output_type": "execute_result"
    }
   ],
   "source": [
    "# Check to ensure total the CoinsMined column contains values greater that zero\n",
    "df_filter.describe()"
   ]
  },
  {
   "cell_type": "code",
   "execution_count": 16,
   "id": "fac1586a-a5d1-4329-8b9f-e1e0e932bf3d",
   "metadata": {},
   "outputs": [],
   "source": [
    "# To Drop Coin Name and Unnamed (irrelevant data) columns from the dataframe  \n",
    "df_filter = df_filter.drop(['Unnamed: 0'], axis = 1)"
   ]
  },
  {
   "cell_type": "code",
   "execution_count": 17,
   "id": "9085f577-fa95-4692-b037-be498a92de9a",
   "metadata": {},
   "outputs": [
    {
     "data": {
      "text/plain": [
       "(532, 4)"
      ]
     },
     "execution_count": 17,
     "metadata": {},
     "output_type": "execute_result"
    }
   ],
   "source": [
    "df_filter.shape"
   ]
  },
  {
   "cell_type": "code",
   "execution_count": 18,
   "id": "259c280c-736b-4605-bab2-6f640a4633a8",
   "metadata": {},
   "outputs": [],
   "source": [
    "# To convert Algorithm and ProofType to numeric values\n",
    "df_filter_with_dummies = pd.get_dummies(df_filter, columns=['Algorithm', 'ProofType'],drop_first=True, dtype=float)"
   ]
  },
  {
   "cell_type": "markdown",
   "id": "1629a46b-8836-4852-afb0-504acd342683",
   "metadata": {},
   "source": [
    "* Examine the number of rows and columns of the DataSet: Rows are the same at 532, Columns increased from 4 to 96 due to the get_dummies conversion"
   ]
  },
  {
   "cell_type": "code",
   "execution_count": 19,
   "id": "020c2cca-9fba-4c0e-ba67-6c90c1898440",
   "metadata": {},
   "outputs": [
    {
     "data": {
      "text/html": [
       "<div>\n",
       "<style scoped>\n",
       "    .dataframe tbody tr th:only-of-type {\n",
       "        vertical-align: middle;\n",
       "    }\n",
       "\n",
       "    .dataframe tbody tr th {\n",
       "        vertical-align: top;\n",
       "    }\n",
       "\n",
       "    .dataframe thead th {\n",
       "        text-align: right;\n",
       "    }\n",
       "</style>\n",
       "<table border=\"1\" class=\"dataframe\">\n",
       "  <thead>\n",
       "    <tr style=\"text-align: right;\">\n",
       "      <th></th>\n",
       "      <th>TotalCoinsMined</th>\n",
       "      <th>TotalCoinSupply</th>\n",
       "      <th>Algorithm_536</th>\n",
       "      <th>Algorithm_Argon2d</th>\n",
       "      <th>Algorithm_BLAKE256</th>\n",
       "      <th>Algorithm_Blake</th>\n",
       "      <th>Algorithm_Blake2S</th>\n",
       "      <th>Algorithm_Blake2b</th>\n",
       "      <th>Algorithm_C11</th>\n",
       "      <th>Algorithm_Cloverhash</th>\n",
       "      <th>...</th>\n",
       "      <th>ProofType_PoW/PoS</th>\n",
       "      <th>ProofType_PoW/PoS</th>\n",
       "      <th>ProofType_PoW/PoW</th>\n",
       "      <th>ProofType_PoW/nPoS</th>\n",
       "      <th>ProofType_Pos</th>\n",
       "      <th>ProofType_Proof of Authority</th>\n",
       "      <th>ProofType_Proof of Trust</th>\n",
       "      <th>ProofType_TPoS</th>\n",
       "      <th>ProofType_Zero-Knowledge Proof</th>\n",
       "      <th>ProofType_dPoW/PoW</th>\n",
       "    </tr>\n",
       "  </thead>\n",
       "  <tbody>\n",
       "    <tr>\n",
       "      <th>0</th>\n",
       "      <td>4.199995e+01</td>\n",
       "      <td>42</td>\n",
       "      <td>0.0</td>\n",
       "      <td>0.0</td>\n",
       "      <td>0.0</td>\n",
       "      <td>0.0</td>\n",
       "      <td>0.0</td>\n",
       "      <td>0.0</td>\n",
       "      <td>0.0</td>\n",
       "      <td>0.0</td>\n",
       "      <td>...</td>\n",
       "      <td>1.0</td>\n",
       "      <td>0.0</td>\n",
       "      <td>0.0</td>\n",
       "      <td>0.0</td>\n",
       "      <td>0.0</td>\n",
       "      <td>0.0</td>\n",
       "      <td>0.0</td>\n",
       "      <td>0.0</td>\n",
       "      <td>0.0</td>\n",
       "      <td>0.0</td>\n",
       "    </tr>\n",
       "    <tr>\n",
       "      <th>2</th>\n",
       "      <td>1.055185e+09</td>\n",
       "      <td>532000000</td>\n",
       "      <td>0.0</td>\n",
       "      <td>0.0</td>\n",
       "      <td>0.0</td>\n",
       "      <td>0.0</td>\n",
       "      <td>0.0</td>\n",
       "      <td>0.0</td>\n",
       "      <td>0.0</td>\n",
       "      <td>0.0</td>\n",
       "      <td>...</td>\n",
       "      <td>1.0</td>\n",
       "      <td>0.0</td>\n",
       "      <td>0.0</td>\n",
       "      <td>0.0</td>\n",
       "      <td>0.0</td>\n",
       "      <td>0.0</td>\n",
       "      <td>0.0</td>\n",
       "      <td>0.0</td>\n",
       "      <td>0.0</td>\n",
       "      <td>0.0</td>\n",
       "    </tr>\n",
       "    <tr>\n",
       "      <th>5</th>\n",
       "      <td>2.927942e+10</td>\n",
       "      <td>314159265359</td>\n",
       "      <td>0.0</td>\n",
       "      <td>0.0</td>\n",
       "      <td>0.0</td>\n",
       "      <td>0.0</td>\n",
       "      <td>0.0</td>\n",
       "      <td>0.0</td>\n",
       "      <td>0.0</td>\n",
       "      <td>0.0</td>\n",
       "      <td>...</td>\n",
       "      <td>1.0</td>\n",
       "      <td>0.0</td>\n",
       "      <td>0.0</td>\n",
       "      <td>0.0</td>\n",
       "      <td>0.0</td>\n",
       "      <td>0.0</td>\n",
       "      <td>0.0</td>\n",
       "      <td>0.0</td>\n",
       "      <td>0.0</td>\n",
       "      <td>0.0</td>\n",
       "    </tr>\n",
       "    <tr>\n",
       "      <th>7</th>\n",
       "      <td>1.792718e+07</td>\n",
       "      <td>21000000</td>\n",
       "      <td>0.0</td>\n",
       "      <td>0.0</td>\n",
       "      <td>0.0</td>\n",
       "      <td>0.0</td>\n",
       "      <td>0.0</td>\n",
       "      <td>0.0</td>\n",
       "      <td>0.0</td>\n",
       "      <td>0.0</td>\n",
       "      <td>...</td>\n",
       "      <td>0.0</td>\n",
       "      <td>0.0</td>\n",
       "      <td>0.0</td>\n",
       "      <td>0.0</td>\n",
       "      <td>0.0</td>\n",
       "      <td>0.0</td>\n",
       "      <td>0.0</td>\n",
       "      <td>0.0</td>\n",
       "      <td>0.0</td>\n",
       "      <td>0.0</td>\n",
       "    </tr>\n",
       "    <tr>\n",
       "      <th>8</th>\n",
       "      <td>1.076842e+08</td>\n",
       "      <td>0</td>\n",
       "      <td>0.0</td>\n",
       "      <td>0.0</td>\n",
       "      <td>0.0</td>\n",
       "      <td>0.0</td>\n",
       "      <td>0.0</td>\n",
       "      <td>0.0</td>\n",
       "      <td>0.0</td>\n",
       "      <td>0.0</td>\n",
       "      <td>...</td>\n",
       "      <td>0.0</td>\n",
       "      <td>0.0</td>\n",
       "      <td>0.0</td>\n",
       "      <td>0.0</td>\n",
       "      <td>0.0</td>\n",
       "      <td>0.0</td>\n",
       "      <td>0.0</td>\n",
       "      <td>0.0</td>\n",
       "      <td>0.0</td>\n",
       "      <td>0.0</td>\n",
       "    </tr>\n",
       "    <tr>\n",
       "      <th>...</th>\n",
       "      <td>...</td>\n",
       "      <td>...</td>\n",
       "      <td>...</td>\n",
       "      <td>...</td>\n",
       "      <td>...</td>\n",
       "      <td>...</td>\n",
       "      <td>...</td>\n",
       "      <td>...</td>\n",
       "      <td>...</td>\n",
       "      <td>...</td>\n",
       "      <td>...</td>\n",
       "      <td>...</td>\n",
       "      <td>...</td>\n",
       "      <td>...</td>\n",
       "      <td>...</td>\n",
       "      <td>...</td>\n",
       "      <td>...</td>\n",
       "      <td>...</td>\n",
       "      <td>...</td>\n",
       "      <td>...</td>\n",
       "      <td>...</td>\n",
       "    </tr>\n",
       "    <tr>\n",
       "      <th>1238</th>\n",
       "      <td>2.000000e+09</td>\n",
       "      <td>2000000000</td>\n",
       "      <td>0.0</td>\n",
       "      <td>0.0</td>\n",
       "      <td>0.0</td>\n",
       "      <td>0.0</td>\n",
       "      <td>0.0</td>\n",
       "      <td>0.0</td>\n",
       "      <td>0.0</td>\n",
       "      <td>0.0</td>\n",
       "      <td>...</td>\n",
       "      <td>0.0</td>\n",
       "      <td>0.0</td>\n",
       "      <td>0.0</td>\n",
       "      <td>0.0</td>\n",
       "      <td>0.0</td>\n",
       "      <td>0.0</td>\n",
       "      <td>0.0</td>\n",
       "      <td>0.0</td>\n",
       "      <td>0.0</td>\n",
       "      <td>0.0</td>\n",
       "    </tr>\n",
       "    <tr>\n",
       "      <th>1242</th>\n",
       "      <td>1.493105e+07</td>\n",
       "      <td>250000000</td>\n",
       "      <td>0.0</td>\n",
       "      <td>0.0</td>\n",
       "      <td>0.0</td>\n",
       "      <td>0.0</td>\n",
       "      <td>0.0</td>\n",
       "      <td>0.0</td>\n",
       "      <td>0.0</td>\n",
       "      <td>0.0</td>\n",
       "      <td>...</td>\n",
       "      <td>1.0</td>\n",
       "      <td>0.0</td>\n",
       "      <td>0.0</td>\n",
       "      <td>0.0</td>\n",
       "      <td>0.0</td>\n",
       "      <td>0.0</td>\n",
       "      <td>0.0</td>\n",
       "      <td>0.0</td>\n",
       "      <td>0.0</td>\n",
       "      <td>0.0</td>\n",
       "    </tr>\n",
       "    <tr>\n",
       "      <th>1245</th>\n",
       "      <td>9.802226e+08</td>\n",
       "      <td>1400222610</td>\n",
       "      <td>0.0</td>\n",
       "      <td>0.0</td>\n",
       "      <td>0.0</td>\n",
       "      <td>0.0</td>\n",
       "      <td>0.0</td>\n",
       "      <td>0.0</td>\n",
       "      <td>0.0</td>\n",
       "      <td>0.0</td>\n",
       "      <td>...</td>\n",
       "      <td>0.0</td>\n",
       "      <td>0.0</td>\n",
       "      <td>0.0</td>\n",
       "      <td>0.0</td>\n",
       "      <td>0.0</td>\n",
       "      <td>0.0</td>\n",
       "      <td>0.0</td>\n",
       "      <td>0.0</td>\n",
       "      <td>0.0</td>\n",
       "      <td>0.0</td>\n",
       "    </tr>\n",
       "    <tr>\n",
       "      <th>1246</th>\n",
       "      <td>7.296538e+06</td>\n",
       "      <td>21000000</td>\n",
       "      <td>0.0</td>\n",
       "      <td>0.0</td>\n",
       "      <td>0.0</td>\n",
       "      <td>0.0</td>\n",
       "      <td>0.0</td>\n",
       "      <td>0.0</td>\n",
       "      <td>0.0</td>\n",
       "      <td>0.0</td>\n",
       "      <td>...</td>\n",
       "      <td>0.0</td>\n",
       "      <td>0.0</td>\n",
       "      <td>0.0</td>\n",
       "      <td>0.0</td>\n",
       "      <td>0.0</td>\n",
       "      <td>0.0</td>\n",
       "      <td>0.0</td>\n",
       "      <td>0.0</td>\n",
       "      <td>0.0</td>\n",
       "      <td>0.0</td>\n",
       "    </tr>\n",
       "    <tr>\n",
       "      <th>1247</th>\n",
       "      <td>1.283270e+05</td>\n",
       "      <td>1000000</td>\n",
       "      <td>0.0</td>\n",
       "      <td>0.0</td>\n",
       "      <td>0.0</td>\n",
       "      <td>0.0</td>\n",
       "      <td>0.0</td>\n",
       "      <td>0.0</td>\n",
       "      <td>0.0</td>\n",
       "      <td>0.0</td>\n",
       "      <td>...</td>\n",
       "      <td>0.0</td>\n",
       "      <td>0.0</td>\n",
       "      <td>0.0</td>\n",
       "      <td>0.0</td>\n",
       "      <td>0.0</td>\n",
       "      <td>0.0</td>\n",
       "      <td>0.0</td>\n",
       "      <td>0.0</td>\n",
       "      <td>0.0</td>\n",
       "      <td>0.0</td>\n",
       "    </tr>\n",
       "  </tbody>\n",
       "</table>\n",
       "<p>532 rows × 96 columns</p>\n",
       "</div>"
      ],
      "text/plain": [
       "      TotalCoinsMined TotalCoinSupply  Algorithm_536  Algorithm_Argon2d  \\\n",
       "0        4.199995e+01              42            0.0                0.0   \n",
       "2        1.055185e+09       532000000            0.0                0.0   \n",
       "5        2.927942e+10    314159265359            0.0                0.0   \n",
       "7        1.792718e+07        21000000            0.0                0.0   \n",
       "8        1.076842e+08               0            0.0                0.0   \n",
       "...               ...             ...            ...                ...   \n",
       "1238     2.000000e+09      2000000000            0.0                0.0   \n",
       "1242     1.493105e+07       250000000            0.0                0.0   \n",
       "1245     9.802226e+08      1400222610            0.0                0.0   \n",
       "1246     7.296538e+06        21000000            0.0                0.0   \n",
       "1247     1.283270e+05         1000000            0.0                0.0   \n",
       "\n",
       "      Algorithm_BLAKE256  Algorithm_Blake  Algorithm_Blake2S  \\\n",
       "0                    0.0              0.0                0.0   \n",
       "2                    0.0              0.0                0.0   \n",
       "5                    0.0              0.0                0.0   \n",
       "7                    0.0              0.0                0.0   \n",
       "8                    0.0              0.0                0.0   \n",
       "...                  ...              ...                ...   \n",
       "1238                 0.0              0.0                0.0   \n",
       "1242                 0.0              0.0                0.0   \n",
       "1245                 0.0              0.0                0.0   \n",
       "1246                 0.0              0.0                0.0   \n",
       "1247                 0.0              0.0                0.0   \n",
       "\n",
       "      Algorithm_Blake2b  Algorithm_C11  Algorithm_Cloverhash  ...  \\\n",
       "0                   0.0            0.0                   0.0  ...   \n",
       "2                   0.0            0.0                   0.0  ...   \n",
       "5                   0.0            0.0                   0.0  ...   \n",
       "7                   0.0            0.0                   0.0  ...   \n",
       "8                   0.0            0.0                   0.0  ...   \n",
       "...                 ...            ...                   ...  ...   \n",
       "1238                0.0            0.0                   0.0  ...   \n",
       "1242                0.0            0.0                   0.0  ...   \n",
       "1245                0.0            0.0                   0.0  ...   \n",
       "1246                0.0            0.0                   0.0  ...   \n",
       "1247                0.0            0.0                   0.0  ...   \n",
       "\n",
       "      ProofType_PoW/PoS  ProofType_PoW/PoS   ProofType_PoW/PoW  \\\n",
       "0                   1.0                 0.0                0.0   \n",
       "2                   1.0                 0.0                0.0   \n",
       "5                   1.0                 0.0                0.0   \n",
       "7                   0.0                 0.0                0.0   \n",
       "8                   0.0                 0.0                0.0   \n",
       "...                 ...                 ...                ...   \n",
       "1238                0.0                 0.0                0.0   \n",
       "1242                1.0                 0.0                0.0   \n",
       "1245                0.0                 0.0                0.0   \n",
       "1246                0.0                 0.0                0.0   \n",
       "1247                0.0                 0.0                0.0   \n",
       "\n",
       "      ProofType_PoW/nPoS  ProofType_Pos  ProofType_Proof of Authority  \\\n",
       "0                    0.0            0.0                           0.0   \n",
       "2                    0.0            0.0                           0.0   \n",
       "5                    0.0            0.0                           0.0   \n",
       "7                    0.0            0.0                           0.0   \n",
       "8                    0.0            0.0                           0.0   \n",
       "...                  ...            ...                           ...   \n",
       "1238                 0.0            0.0                           0.0   \n",
       "1242                 0.0            0.0                           0.0   \n",
       "1245                 0.0            0.0                           0.0   \n",
       "1246                 0.0            0.0                           0.0   \n",
       "1247                 0.0            0.0                           0.0   \n",
       "\n",
       "      ProofType_Proof of Trust  ProofType_TPoS  \\\n",
       "0                          0.0             0.0   \n",
       "2                          0.0             0.0   \n",
       "5                          0.0             0.0   \n",
       "7                          0.0             0.0   \n",
       "8                          0.0             0.0   \n",
       "...                        ...             ...   \n",
       "1238                       0.0             0.0   \n",
       "1242                       0.0             0.0   \n",
       "1245                       0.0             0.0   \n",
       "1246                       0.0             0.0   \n",
       "1247                       0.0             0.0   \n",
       "\n",
       "      ProofType_Zero-Knowledge Proof  ProofType_dPoW/PoW  \n",
       "0                                0.0                 0.0  \n",
       "2                                0.0                 0.0  \n",
       "5                                0.0                 0.0  \n",
       "7                                0.0                 0.0  \n",
       "8                                0.0                 0.0  \n",
       "...                              ...                 ...  \n",
       "1238                             0.0                 0.0  \n",
       "1242                             0.0                 0.0  \n",
       "1245                             0.0                 0.0  \n",
       "1246                             0.0                 0.0  \n",
       "1247                             0.0                 0.0  \n",
       "\n",
       "[532 rows x 96 columns]"
      ]
     },
     "execution_count": 19,
     "metadata": {},
     "output_type": "execute_result"
    }
   ],
   "source": [
    "df_filter_with_dummies"
   ]
  },
  {
   "cell_type": "code",
   "execution_count": 20,
   "id": "0dd084de-90c4-493b-ab55-7f7e571b7b69",
   "metadata": {},
   "outputs": [
    {
     "data": {
      "text/html": [
       "<div>\n",
       "<style scoped>\n",
       "    .dataframe tbody tr th:only-of-type {\n",
       "        vertical-align: middle;\n",
       "    }\n",
       "\n",
       "    .dataframe tbody tr th {\n",
       "        vertical-align: top;\n",
       "    }\n",
       "\n",
       "    .dataframe thead th {\n",
       "        text-align: right;\n",
       "    }\n",
       "</style>\n",
       "<table border=\"1\" class=\"dataframe\">\n",
       "  <thead>\n",
       "    <tr style=\"text-align: right;\">\n",
       "      <th></th>\n",
       "      <th>TotalCoinsMined</th>\n",
       "      <th>Algorithm_536</th>\n",
       "      <th>Algorithm_Argon2d</th>\n",
       "      <th>Algorithm_BLAKE256</th>\n",
       "      <th>Algorithm_Blake</th>\n",
       "      <th>Algorithm_Blake2S</th>\n",
       "      <th>Algorithm_Blake2b</th>\n",
       "      <th>Algorithm_C11</th>\n",
       "      <th>Algorithm_Cloverhash</th>\n",
       "      <th>Algorithm_Counterparty</th>\n",
       "      <th>...</th>\n",
       "      <th>ProofType_PoW/PoS</th>\n",
       "      <th>ProofType_PoW/PoS</th>\n",
       "      <th>ProofType_PoW/PoW</th>\n",
       "      <th>ProofType_PoW/nPoS</th>\n",
       "      <th>ProofType_Pos</th>\n",
       "      <th>ProofType_Proof of Authority</th>\n",
       "      <th>ProofType_Proof of Trust</th>\n",
       "      <th>ProofType_TPoS</th>\n",
       "      <th>ProofType_Zero-Knowledge Proof</th>\n",
       "      <th>ProofType_dPoW/PoW</th>\n",
       "    </tr>\n",
       "  </thead>\n",
       "  <tbody>\n",
       "    <tr>\n",
       "      <th>count</th>\n",
       "      <td>5.320000e+02</td>\n",
       "      <td>532.000000</td>\n",
       "      <td>532.000000</td>\n",
       "      <td>532.000000</td>\n",
       "      <td>532.000000</td>\n",
       "      <td>532.000000</td>\n",
       "      <td>532.000000</td>\n",
       "      <td>532.000000</td>\n",
       "      <td>532.000000</td>\n",
       "      <td>532.000000</td>\n",
       "      <td>...</td>\n",
       "      <td>532.000000</td>\n",
       "      <td>532.000000</td>\n",
       "      <td>532.000000</td>\n",
       "      <td>532.000000</td>\n",
       "      <td>532.000000</td>\n",
       "      <td>532.000000</td>\n",
       "      <td>532.000000</td>\n",
       "      <td>532.000000</td>\n",
       "      <td>532.000000</td>\n",
       "      <td>532.000000</td>\n",
       "    </tr>\n",
       "    <tr>\n",
       "      <th>mean</th>\n",
       "      <td>5.340456e+09</td>\n",
       "      <td>0.001880</td>\n",
       "      <td>0.001880</td>\n",
       "      <td>0.003759</td>\n",
       "      <td>0.005639</td>\n",
       "      <td>0.001880</td>\n",
       "      <td>0.003759</td>\n",
       "      <td>0.003759</td>\n",
       "      <td>0.001880</td>\n",
       "      <td>0.001880</td>\n",
       "      <td>...</td>\n",
       "      <td>0.330827</td>\n",
       "      <td>0.001880</td>\n",
       "      <td>0.001880</td>\n",
       "      <td>0.001880</td>\n",
       "      <td>0.001880</td>\n",
       "      <td>0.001880</td>\n",
       "      <td>0.001880</td>\n",
       "      <td>0.001880</td>\n",
       "      <td>0.001880</td>\n",
       "      <td>0.001880</td>\n",
       "    </tr>\n",
       "    <tr>\n",
       "      <th>std</th>\n",
       "      <td>4.564568e+10</td>\n",
       "      <td>0.043355</td>\n",
       "      <td>0.043355</td>\n",
       "      <td>0.061256</td>\n",
       "      <td>0.074952</td>\n",
       "      <td>0.043355</td>\n",
       "      <td>0.061256</td>\n",
       "      <td>0.061256</td>\n",
       "      <td>0.043355</td>\n",
       "      <td>0.043355</td>\n",
       "      <td>...</td>\n",
       "      <td>0.470954</td>\n",
       "      <td>0.043355</td>\n",
       "      <td>0.043355</td>\n",
       "      <td>0.043355</td>\n",
       "      <td>0.043355</td>\n",
       "      <td>0.043355</td>\n",
       "      <td>0.043355</td>\n",
       "      <td>0.043355</td>\n",
       "      <td>0.043355</td>\n",
       "      <td>0.043355</td>\n",
       "    </tr>\n",
       "    <tr>\n",
       "      <th>min</th>\n",
       "      <td>4.199995e+01</td>\n",
       "      <td>0.000000</td>\n",
       "      <td>0.000000</td>\n",
       "      <td>0.000000</td>\n",
       "      <td>0.000000</td>\n",
       "      <td>0.000000</td>\n",
       "      <td>0.000000</td>\n",
       "      <td>0.000000</td>\n",
       "      <td>0.000000</td>\n",
       "      <td>0.000000</td>\n",
       "      <td>...</td>\n",
       "      <td>0.000000</td>\n",
       "      <td>0.000000</td>\n",
       "      <td>0.000000</td>\n",
       "      <td>0.000000</td>\n",
       "      <td>0.000000</td>\n",
       "      <td>0.000000</td>\n",
       "      <td>0.000000</td>\n",
       "      <td>0.000000</td>\n",
       "      <td>0.000000</td>\n",
       "      <td>0.000000</td>\n",
       "    </tr>\n",
       "    <tr>\n",
       "      <th>25%</th>\n",
       "      <td>8.359849e+06</td>\n",
       "      <td>0.000000</td>\n",
       "      <td>0.000000</td>\n",
       "      <td>0.000000</td>\n",
       "      <td>0.000000</td>\n",
       "      <td>0.000000</td>\n",
       "      <td>0.000000</td>\n",
       "      <td>0.000000</td>\n",
       "      <td>0.000000</td>\n",
       "      <td>0.000000</td>\n",
       "      <td>...</td>\n",
       "      <td>0.000000</td>\n",
       "      <td>0.000000</td>\n",
       "      <td>0.000000</td>\n",
       "      <td>0.000000</td>\n",
       "      <td>0.000000</td>\n",
       "      <td>0.000000</td>\n",
       "      <td>0.000000</td>\n",
       "      <td>0.000000</td>\n",
       "      <td>0.000000</td>\n",
       "      <td>0.000000</td>\n",
       "    </tr>\n",
       "    <tr>\n",
       "      <th>50%</th>\n",
       "      <td>2.474397e+07</td>\n",
       "      <td>0.000000</td>\n",
       "      <td>0.000000</td>\n",
       "      <td>0.000000</td>\n",
       "      <td>0.000000</td>\n",
       "      <td>0.000000</td>\n",
       "      <td>0.000000</td>\n",
       "      <td>0.000000</td>\n",
       "      <td>0.000000</td>\n",
       "      <td>0.000000</td>\n",
       "      <td>...</td>\n",
       "      <td>0.000000</td>\n",
       "      <td>0.000000</td>\n",
       "      <td>0.000000</td>\n",
       "      <td>0.000000</td>\n",
       "      <td>0.000000</td>\n",
       "      <td>0.000000</td>\n",
       "      <td>0.000000</td>\n",
       "      <td>0.000000</td>\n",
       "      <td>0.000000</td>\n",
       "      <td>0.000000</td>\n",
       "    </tr>\n",
       "    <tr>\n",
       "      <th>75%</th>\n",
       "      <td>1.867250e+08</td>\n",
       "      <td>0.000000</td>\n",
       "      <td>0.000000</td>\n",
       "      <td>0.000000</td>\n",
       "      <td>0.000000</td>\n",
       "      <td>0.000000</td>\n",
       "      <td>0.000000</td>\n",
       "      <td>0.000000</td>\n",
       "      <td>0.000000</td>\n",
       "      <td>0.000000</td>\n",
       "      <td>...</td>\n",
       "      <td>1.000000</td>\n",
       "      <td>0.000000</td>\n",
       "      <td>0.000000</td>\n",
       "      <td>0.000000</td>\n",
       "      <td>0.000000</td>\n",
       "      <td>0.000000</td>\n",
       "      <td>0.000000</td>\n",
       "      <td>0.000000</td>\n",
       "      <td>0.000000</td>\n",
       "      <td>0.000000</td>\n",
       "    </tr>\n",
       "    <tr>\n",
       "      <th>max</th>\n",
       "      <td>9.899887e+11</td>\n",
       "      <td>1.000000</td>\n",
       "      <td>1.000000</td>\n",
       "      <td>1.000000</td>\n",
       "      <td>1.000000</td>\n",
       "      <td>1.000000</td>\n",
       "      <td>1.000000</td>\n",
       "      <td>1.000000</td>\n",
       "      <td>1.000000</td>\n",
       "      <td>1.000000</td>\n",
       "      <td>...</td>\n",
       "      <td>1.000000</td>\n",
       "      <td>1.000000</td>\n",
       "      <td>1.000000</td>\n",
       "      <td>1.000000</td>\n",
       "      <td>1.000000</td>\n",
       "      <td>1.000000</td>\n",
       "      <td>1.000000</td>\n",
       "      <td>1.000000</td>\n",
       "      <td>1.000000</td>\n",
       "      <td>1.000000</td>\n",
       "    </tr>\n",
       "  </tbody>\n",
       "</table>\n",
       "<p>8 rows × 95 columns</p>\n",
       "</div>"
      ],
      "text/plain": [
       "       TotalCoinsMined  Algorithm_536  Algorithm_Argon2d  Algorithm_BLAKE256  \\\n",
       "count     5.320000e+02     532.000000         532.000000          532.000000   \n",
       "mean      5.340456e+09       0.001880           0.001880            0.003759   \n",
       "std       4.564568e+10       0.043355           0.043355            0.061256   \n",
       "min       4.199995e+01       0.000000           0.000000            0.000000   \n",
       "25%       8.359849e+06       0.000000           0.000000            0.000000   \n",
       "50%       2.474397e+07       0.000000           0.000000            0.000000   \n",
       "75%       1.867250e+08       0.000000           0.000000            0.000000   \n",
       "max       9.899887e+11       1.000000           1.000000            1.000000   \n",
       "\n",
       "       Algorithm_Blake  Algorithm_Blake2S  Algorithm_Blake2b  Algorithm_C11  \\\n",
       "count       532.000000         532.000000         532.000000     532.000000   \n",
       "mean          0.005639           0.001880           0.003759       0.003759   \n",
       "std           0.074952           0.043355           0.061256       0.061256   \n",
       "min           0.000000           0.000000           0.000000       0.000000   \n",
       "25%           0.000000           0.000000           0.000000       0.000000   \n",
       "50%           0.000000           0.000000           0.000000       0.000000   \n",
       "75%           0.000000           0.000000           0.000000       0.000000   \n",
       "max           1.000000           1.000000           1.000000       1.000000   \n",
       "\n",
       "       Algorithm_Cloverhash  Algorithm_Counterparty  ...  ProofType_PoW/PoS  \\\n",
       "count            532.000000              532.000000  ...         532.000000   \n",
       "mean               0.001880                0.001880  ...           0.330827   \n",
       "std                0.043355                0.043355  ...           0.470954   \n",
       "min                0.000000                0.000000  ...           0.000000   \n",
       "25%                0.000000                0.000000  ...           0.000000   \n",
       "50%                0.000000                0.000000  ...           0.000000   \n",
       "75%                0.000000                0.000000  ...           1.000000   \n",
       "max                1.000000                1.000000  ...           1.000000   \n",
       "\n",
       "       ProofType_PoW/PoS   ProofType_PoW/PoW  ProofType_PoW/nPoS  \\\n",
       "count          532.000000         532.000000          532.000000   \n",
       "mean             0.001880           0.001880            0.001880   \n",
       "std              0.043355           0.043355            0.043355   \n",
       "min              0.000000           0.000000            0.000000   \n",
       "25%              0.000000           0.000000            0.000000   \n",
       "50%              0.000000           0.000000            0.000000   \n",
       "75%              0.000000           0.000000            0.000000   \n",
       "max              1.000000           1.000000            1.000000   \n",
       "\n",
       "       ProofType_Pos  ProofType_Proof of Authority  ProofType_Proof of Trust  \\\n",
       "count     532.000000                    532.000000                532.000000   \n",
       "mean        0.001880                      0.001880                  0.001880   \n",
       "std         0.043355                      0.043355                  0.043355   \n",
       "min         0.000000                      0.000000                  0.000000   \n",
       "25%         0.000000                      0.000000                  0.000000   \n",
       "50%         0.000000                      0.000000                  0.000000   \n",
       "75%         0.000000                      0.000000                  0.000000   \n",
       "max         1.000000                      1.000000                  1.000000   \n",
       "\n",
       "       ProofType_TPoS  ProofType_Zero-Knowledge Proof  ProofType_dPoW/PoW  \n",
       "count      532.000000                      532.000000          532.000000  \n",
       "mean         0.001880                        0.001880            0.001880  \n",
       "std          0.043355                        0.043355            0.043355  \n",
       "min          0.000000                        0.000000            0.000000  \n",
       "25%          0.000000                        0.000000            0.000000  \n",
       "50%          0.000000                        0.000000            0.000000  \n",
       "75%          0.000000                        0.000000            0.000000  \n",
       "max          1.000000                        1.000000            1.000000  \n",
       "\n",
       "[8 rows x 95 columns]"
      ]
     },
     "execution_count": 20,
     "metadata": {},
     "output_type": "execute_result"
    }
   ],
   "source": [
    "df_filter_with_dummies.describe()"
   ]
  },
  {
   "cell_type": "code",
   "execution_count": 21,
   "id": "7e672fb1-b474-4ee5-b9a7-b355918fb49d",
   "metadata": {},
   "outputs": [],
   "source": [
    "# Use Standard Scaler/Min Max Scaler for columns with larger values which might unduly influence the outcome.\n",
    "scaler = MinMaxScaler()\n",
    "# scaler = StandardScaler()"
   ]
  },
  {
   "cell_type": "code",
   "execution_count": 22,
   "id": "315d7093-84c4-4db7-84e4-fcc0c45b5640",
   "metadata": {},
   "outputs": [],
   "source": [
    "scaled_data = scaler.fit_transform(df_filter_with_dummies)"
   ]
  },
  {
   "cell_type": "markdown",
   "id": "1b773fcd-74af-48bb-bd35-4fdc8e2012a6",
   "metadata": {},
   "source": [
    "# Dimensionality Reduction"
   ]
  },
  {
   "cell_type": "markdown",
   "id": "ace09730-6db6-4fab-acf5-ef2a303afba6",
   "metadata": {},
   "source": [
    "* Preserve ~90% of the explained variance in dimentionality reduction "
   ]
  },
  {
   "cell_type": "code",
   "execution_count": 23,
   "id": "81f8b90d-ba6c-4d26-86b2-b6c117e5c546",
   "metadata": {},
   "outputs": [],
   "source": [
    "pca = PCA(n_components=0.90)\n",
    "pca_transformed_data = pca.fit_transform(scaled_data)"
   ]
  },
  {
   "cell_type": "code",
   "execution_count": 24,
   "id": "198beac2-8516-4e5f-9c1d-b178d51176a5",
   "metadata": {},
   "outputs": [
    {
     "data": {
      "text/plain": [
       "array([0.25786735, 0.42664167, 0.56010234, 0.63372367, 0.67978525,\n",
       "       0.70325577, 0.72467002, 0.7441026 , 0.76194616, 0.77650135,\n",
       "       0.78999643, 0.80223088, 0.81360199, 0.82472606, 0.83460437,\n",
       "       0.84292144, 0.85001103, 0.85597251, 0.86107617, 0.86603051,\n",
       "       0.87098484, 0.87593918, 0.88087746, 0.88579357, 0.89051693,\n",
       "       0.89477803, 0.89881774, 0.9025873 ])"
      ]
     },
     "execution_count": 24,
     "metadata": {},
     "output_type": "execute_result"
    }
   ],
   "source": [
    "# Cummulative explained variance is ~0.91.\n",
    "pca.explained_variance_ratio_.cumsum()"
   ]
  },
  {
   "cell_type": "code",
   "execution_count": 25,
   "id": "44cfd9dc-79db-4faa-84bc-6bc5683080fd",
   "metadata": {
    "tags": []
   },
   "outputs": [
    {
     "name": "stdout",
     "output_type": "stream",
     "text": [
      "(532, 28)\n"
     ]
    }
   ],
   "source": [
    "print(pca_transformed_data.shape)"
   ]
  },
  {
   "cell_type": "markdown",
   "id": "6681928c-b36e-4e3a-95de-55cfe1cf9309",
   "metadata": {},
   "source": [
    "* The number of columns was reduced from 96 to 28 using the PCA fit transform command.  The dimentionality has been reduced and now takes up much less space, while maintaning a high percentage of its original variance. "
   ]
  },
  {
   "cell_type": "code",
   "execution_count": 26,
   "id": "c7d5e05e-9451-47c6-9e41-3afe8cbbf5d6",
   "metadata": {},
   "outputs": [],
   "source": [
    "tsne = TSNE(perplexity=50, learning_rate=200)\n",
    "# , learning_rate=100"
   ]
  },
  {
   "cell_type": "code",
   "execution_count": 27,
   "id": "534ff5b6-bd1f-4a7b-ab02-d16888745d0b",
   "metadata": {},
   "outputs": [
    {
     "data": {
      "text/plain": [
       "array([[  9.219942 ,  17.598234 ],\n",
       "       [  6.132474 ,  19.911818 ],\n",
       "       [  1.8442048,  13.53119  ],\n",
       "       ...,\n",
       "       [  5.0373087, -16.20271  ],\n",
       "       [ -1.369467 ,  -9.83539  ],\n",
       "       [ -8.764248 ,  -1.3627934]], dtype=float32)"
      ]
     },
     "execution_count": 27,
     "metadata": {},
     "output_type": "execute_result"
    }
   ],
   "source": [
    "X_pca_tsne = tsne.fit_transform(pca_transformed_data)\n",
    "X_pca_tsne"
   ]
  },
  {
   "cell_type": "markdown",
   "id": "08392df6-c2ca-4e93-976a-25265b2c60b4",
   "metadata": {},
   "source": [
    "* The number of columns was reduced from 28 to 2 using the t-SNE command.  "
   ]
  },
  {
   "cell_type": "code",
   "execution_count": 28,
   "id": "69987f29-9258-47be-a196-5bf5ea96170b",
   "metadata": {},
   "outputs": [
    {
     "data": {
      "text/plain": [
       "(532, 2)"
      ]
     },
     "execution_count": 28,
     "metadata": {},
     "output_type": "execute_result"
    }
   ],
   "source": [
    "X_pca_tsne.shape"
   ]
  },
  {
   "cell_type": "markdown",
   "id": "e61f3a38-7e0c-497f-a303-4ae3cfcda3d7",
   "metadata": {},
   "source": [
    "* Per the scatter plot below - visually, there appears to be 4 possible distinct clusters.  See color coded plot below."
   ]
  },
  {
   "cell_type": "code",
   "execution_count": 29,
   "id": "473ab1e3-d350-468b-8606-cb848019a972",
   "metadata": {},
   "outputs": [
    {
     "data": {
      "image/png": "[encoded data removed]",
      "text/plain": [
       "<Figure size 432x288 with 2 Axes>"
      ]
     },
     "metadata": {
      "needs_background": "light"
     },
     "output_type": "display_data"
    }
   ],
   "source": [
    "plt.scatter(X_pca_tsne[:,0],X_pca_tsne[:,1])\n",
    "plt.colorbar()\n",
    "plt.show()"
   ]
  },
  {
   "cell_type": "markdown",
   "id": "fd5d946d-f5dd-4c3c-99c2-c5bc07763894",
   "metadata": {},
   "source": [
    "# Cluster Analysis with k-Means"
   ]
  },
  {
   "cell_type": "markdown",
   "id": "bb086f8d-c45f-453e-b30c-c7c58e6c9de5",
   "metadata": {},
   "source": [
    "* Based on the elbow plot below - the elbow point appears to be between points 3 and 4.  The inertia starts to decrease significantly at point 4 and would capture the most intercia while trying to maintain a minimun number of clusters used. "
   ]
  },
  {
   "cell_type": "code",
   "execution_count": 38,
   "id": "2d9cdd2c-b06e-4151-b685-65e49420cfd8",
   "metadata": {},
   "outputs": [
    {
     "name": "stderr",
     "output_type": "stream",
     "text": [
      "C:\\Users\\lcswi\\anaconda3\\lib\\site-packages\\sklearn\\cluster\\_kmeans.py:881: UserWarning: KMeans is known to have a memory leak on Windows with MKL, when there are less chunks than available threads. You can avoid it by setting the environment variable OMP_NUM_THREADS=3.\n",
      "  warnings.warn(\n"
     ]
    },
    {
     "data": {
      "image/png": "[encoded data removed]",
      "text/plain": [
       "<Figure size 432x288 with 1 Axes>"
      ]
     },
     "metadata": {
      "needs_background": "light"
     },
     "output_type": "display_data"
    }
   ],
   "source": [
    "# Perform KMeans on the pca'd tsne'd features of X\n",
    "from sklearn.cluster import KMeans\n",
    "\n",
    "inertia = []\n",
    "\n",
    "k = [1,2,3,4,5,6,7,8,9,10]\n",
    "\n",
    "for i in k:\n",
    "    km = KMeans(n_clusters=i, random_state=0)\n",
    "    km.fit(X_pca_tsne)\n",
    "    inertia.append(km.inertia_)\n",
    "    \n",
    "elbow_data = {\"k\": k, \"inertia\": inertia}\n",
    "X_pca_tsne_elbow = pd.DataFrame(elbow_data)\n",
    "X_pca_tsne_elbow\n",
    "\n",
    "plt.plot(X_pca_tsne_elbow['k'], X_pca_tsne_elbow['inertia'], marker = \"o\")\n",
    "plt.xticks(range(1,11))\n",
    "plt.title('Elbow Plot')\n",
    "plt.xlabel('Number of clusters')\n",
    "plt.ylabel('Inertia')\n",
    "plt.show()"
   ]
  },
  {
   "cell_type": "code",
   "execution_count": 31,
   "id": "95f0b6ce-da51-4cc1-bf2c-eb3b5da5cd7d",
   "metadata": {},
   "outputs": [],
   "source": [
    "X_pca_tsne = pd.DataFrame(X_pca_tsne)\n",
    "# X_pca_tsne"
   ]
  },
  {
   "cell_type": "code",
   "execution_count": 32,
   "id": "ba4db7d9-753d-468c-958f-cffb5afe2627",
   "metadata": {},
   "outputs": [],
   "source": [
    "def get_clusters(k, data):\n",
    "    # Initialize the K-Means model\n",
    "    model = KMeans(n_clusters=k, random_state=0)\n",
    "\n",
    "    # Train the model\n",
    "    model.fit(data)\n",
    "\n",
    "    # Predict clusters\n",
    "    predictions = model.predict(data)\n",
    "\n",
    "    # Create return DataFrame with predicted clusters\n",
    "    data[\"class\"] = model.labels_\n",
    "\n",
    "    return data"
   ]
  },
  {
   "cell_type": "code",
   "execution_count": 33,
   "id": "16431da2-9210-4101-ad68-876bdee8f487",
   "metadata": {},
   "outputs": [
    {
     "data": {
      "text/html": [
       "<div>\n",
       "<style scoped>\n",
       "    .dataframe tbody tr th:only-of-type {\n",
       "        vertical-align: middle;\n",
       "    }\n",
       "\n",
       "    .dataframe tbody tr th {\n",
       "        vertical-align: top;\n",
       "    }\n",
       "\n",
       "    .dataframe thead th {\n",
       "        text-align: right;\n",
       "    }\n",
       "</style>\n",
       "<table border=\"1\" class=\"dataframe\">\n",
       "  <thead>\n",
       "    <tr style=\"text-align: right;\">\n",
       "      <th></th>\n",
       "      <th>0</th>\n",
       "      <th>1</th>\n",
       "      <th>class</th>\n",
       "    </tr>\n",
       "  </thead>\n",
       "  <tbody>\n",
       "    <tr>\n",
       "      <th>0</th>\n",
       "      <td>9.219942</td>\n",
       "      <td>17.598234</td>\n",
       "      <td>1</td>\n",
       "    </tr>\n",
       "    <tr>\n",
       "      <th>1</th>\n",
       "      <td>6.132474</td>\n",
       "      <td>19.911818</td>\n",
       "      <td>1</td>\n",
       "    </tr>\n",
       "    <tr>\n",
       "      <th>2</th>\n",
       "      <td>1.844205</td>\n",
       "      <td>13.531190</td>\n",
       "      <td>1</td>\n",
       "    </tr>\n",
       "    <tr>\n",
       "      <th>3</th>\n",
       "      <td>10.345451</td>\n",
       "      <td>-11.421276</td>\n",
       "      <td>2</td>\n",
       "    </tr>\n",
       "    <tr>\n",
       "      <th>4</th>\n",
       "      <td>1.329700</td>\n",
       "      <td>-14.954030</td>\n",
       "      <td>2</td>\n",
       "    </tr>\n",
       "    <tr>\n",
       "      <th>...</th>\n",
       "      <td>...</td>\n",
       "      <td>...</td>\n",
       "      <td>...</td>\n",
       "    </tr>\n",
       "    <tr>\n",
       "      <th>527</th>\n",
       "      <td>-1.018119</td>\n",
       "      <td>-3.460475</td>\n",
       "      <td>3</td>\n",
       "    </tr>\n",
       "    <tr>\n",
       "      <th>528</th>\n",
       "      <td>7.119725</td>\n",
       "      <td>18.288187</td>\n",
       "      <td>1</td>\n",
       "    </tr>\n",
       "    <tr>\n",
       "      <th>529</th>\n",
       "      <td>5.037309</td>\n",
       "      <td>-16.202709</td>\n",
       "      <td>2</td>\n",
       "    </tr>\n",
       "    <tr>\n",
       "      <th>530</th>\n",
       "      <td>-1.369467</td>\n",
       "      <td>-9.835390</td>\n",
       "      <td>2</td>\n",
       "    </tr>\n",
       "    <tr>\n",
       "      <th>531</th>\n",
       "      <td>-8.764248</td>\n",
       "      <td>-1.362793</td>\n",
       "      <td>3</td>\n",
       "    </tr>\n",
       "  </tbody>\n",
       "</table>\n",
       "<p>532 rows × 3 columns</p>\n",
       "</div>"
      ],
      "text/plain": [
       "             0          1  class\n",
       "0     9.219942  17.598234      1\n",
       "1     6.132474  19.911818      1\n",
       "2     1.844205  13.531190      1\n",
       "3    10.345451 -11.421276      2\n",
       "4     1.329700 -14.954030      2\n",
       "..         ...        ...    ...\n",
       "527  -1.018119  -3.460475      3\n",
       "528   7.119725  18.288187      1\n",
       "529   5.037309 -16.202709      2\n",
       "530  -1.369467  -9.835390      2\n",
       "531  -8.764248  -1.362793      3\n",
       "\n",
       "[532 rows x 3 columns]"
      ]
     },
     "execution_count": 33,
     "metadata": {},
     "output_type": "execute_result"
    }
   ],
   "source": [
    "clusters = get_clusters(4, X_pca_tsne)\n",
    "clusters"
   ]
  },
  {
   "cell_type": "code",
   "execution_count": 34,
   "id": "ebdd5436-8c2b-412f-83a3-08cf6e0a7638",
   "metadata": {},
   "outputs": [],
   "source": [
    "clusters = pd.DataFrame(clusters)\n",
    "clusters = clusters.rename(columns = {0:'ColumnOne'})\n",
    "clusters = clusters.rename(columns = {1:'ColumnTwo'})"
   ]
  },
  {
   "cell_type": "code",
   "execution_count": 35,
   "id": "1d88792a-fd4b-40fa-a892-76fc86f198b0",
   "metadata": {},
   "outputs": [
    {
     "data": {
      "text/html": [
       "<div>\n",
       "<style scoped>\n",
       "    .dataframe tbody tr th:only-of-type {\n",
       "        vertical-align: middle;\n",
       "    }\n",
       "\n",
       "    .dataframe tbody tr th {\n",
       "        vertical-align: top;\n",
       "    }\n",
       "\n",
       "    .dataframe thead th {\n",
       "        text-align: right;\n",
       "    }\n",
       "</style>\n",
       "<table border=\"1\" class=\"dataframe\">\n",
       "  <thead>\n",
       "    <tr style=\"text-align: right;\">\n",
       "      <th></th>\n",
       "      <th>ColumnOne</th>\n",
       "      <th>ColumnTwo</th>\n",
       "      <th>class</th>\n",
       "    </tr>\n",
       "  </thead>\n",
       "  <tbody>\n",
       "    <tr>\n",
       "      <th>0</th>\n",
       "      <td>9.219942</td>\n",
       "      <td>17.598234</td>\n",
       "      <td>1</td>\n",
       "    </tr>\n",
       "    <tr>\n",
       "      <th>1</th>\n",
       "      <td>6.132474</td>\n",
       "      <td>19.911818</td>\n",
       "      <td>1</td>\n",
       "    </tr>\n",
       "    <tr>\n",
       "      <th>2</th>\n",
       "      <td>1.844205</td>\n",
       "      <td>13.531190</td>\n",
       "      <td>1</td>\n",
       "    </tr>\n",
       "    <tr>\n",
       "      <th>3</th>\n",
       "      <td>10.345451</td>\n",
       "      <td>-11.421276</td>\n",
       "      <td>2</td>\n",
       "    </tr>\n",
       "    <tr>\n",
       "      <th>4</th>\n",
       "      <td>1.329700</td>\n",
       "      <td>-14.954030</td>\n",
       "      <td>2</td>\n",
       "    </tr>\n",
       "    <tr>\n",
       "      <th>...</th>\n",
       "      <td>...</td>\n",
       "      <td>...</td>\n",
       "      <td>...</td>\n",
       "    </tr>\n",
       "    <tr>\n",
       "      <th>527</th>\n",
       "      <td>-1.018119</td>\n",
       "      <td>-3.460475</td>\n",
       "      <td>3</td>\n",
       "    </tr>\n",
       "    <tr>\n",
       "      <th>528</th>\n",
       "      <td>7.119725</td>\n",
       "      <td>18.288187</td>\n",
       "      <td>1</td>\n",
       "    </tr>\n",
       "    <tr>\n",
       "      <th>529</th>\n",
       "      <td>5.037309</td>\n",
       "      <td>-16.202709</td>\n",
       "      <td>2</td>\n",
       "    </tr>\n",
       "    <tr>\n",
       "      <th>530</th>\n",
       "      <td>-1.369467</td>\n",
       "      <td>-9.835390</td>\n",
       "      <td>2</td>\n",
       "    </tr>\n",
       "    <tr>\n",
       "      <th>531</th>\n",
       "      <td>-8.764248</td>\n",
       "      <td>-1.362793</td>\n",
       "      <td>3</td>\n",
       "    </tr>\n",
       "  </tbody>\n",
       "</table>\n",
       "<p>532 rows × 3 columns</p>\n",
       "</div>"
      ],
      "text/plain": [
       "     ColumnOne  ColumnTwo  class\n",
       "0     9.219942  17.598234      1\n",
       "1     6.132474  19.911818      1\n",
       "2     1.844205  13.531190      1\n",
       "3    10.345451 -11.421276      2\n",
       "4     1.329700 -14.954030      2\n",
       "..         ...        ...    ...\n",
       "527  -1.018119  -3.460475      3\n",
       "528   7.119725  18.288187      1\n",
       "529   5.037309 -16.202709      2\n",
       "530  -1.369467  -9.835390      2\n",
       "531  -8.764248  -1.362793      3\n",
       "\n",
       "[532 rows x 3 columns]"
      ]
     },
     "execution_count": 35,
     "metadata": {},
     "output_type": "execute_result"
    }
   ],
   "source": [
    "clusters"
   ]
  },
  {
   "cell_type": "code",
   "execution_count": 36,
   "id": "91fc9d72-583d-4cf3-8b8b-a5e3c7fe2957",
   "metadata": {},
   "outputs": [],
   "source": [
    "def show_clusters(df):\n",
    "    plt.scatter(df[\"ColumnOne\"], df[\"ColumnTwo\"], c=df['class'])\n",
    "    plt.xlabel('X')\n",
    "    plt.ylabel('Y')\n",
    "    plt.colorbar()\n",
    "    plt.show()"
   ]
  },
  {
   "cell_type": "markdown",
   "id": "52ba1a2e-ff5b-4098-aa6e-e473a1059121",
   "metadata": {},
   "source": [
    "* The four separate and destinct clusters are shown below via a color bar. "
   ]
  },
  {
   "cell_type": "code",
   "execution_count": 37,
   "id": "3084570f-b2b2-4bdd-9801-bfcbfd1de89e",
   "metadata": {},
   "outputs": [
    {
     "data": {
      "image/png": "[encoded data removed]",
      "text/plain": [
       "<Figure size 432x288 with 2 Axes>"
      ]
     },
     "metadata": {
      "needs_background": "light"
     },
     "output_type": "display_data"
    }
   ],
   "source": [
    "show_clusters(clusters)"
   ]
  },
  {
   "cell_type": "markdown",
   "id": "e65b4e75-4979-4d3b-bee5-5a64c40ae158",
   "metadata": {},
   "source": [
    "# Recommendation"
   ]
  },
  {
   "cell_type": "markdown",
   "id": "cf34f9c2-cfab-416f-89c0-1ad0c1e77f02",
   "metadata": {},
   "source": [
    "* After implementing the Demensionality Reduction and Cluster Analysis processes, the initial data visualization plot indicates the crytocurrencies can be clustered.  In addition, the elbow chart indicates that 4 clusters would capture the most intercia.  "
   ]
  }
 ],
 "metadata": {
  "kernelspec": {
   "display_name": "Python [conda env:root] *",
   "language": "python",
   "name": "conda-root-py"
  },
  "language_info": {
   "codemirror_mode": {
    "name": "ipython",
    "version": 3
   },
   "file_extension": ".py",
   "mimetype": "text/x-python",
   "name": "python",
   "nbconvert_exporter": "python",
   "pygments_lexer": "ipython3",
   "version": "3.8.5"
  }
 },
 "nbformat": 4,
 "nbformat_minor": 5
}
